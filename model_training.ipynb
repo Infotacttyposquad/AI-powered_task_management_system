{
 "cells": [
  {
   "cell_type": "code",
   "execution_count": 1,
   "id": "b3d5e3e6-d95c-4595-b434-bf04a82c43a2",
   "metadata": {
    "scrolled": true
   },
   "outputs": [
    {
     "data": {
      "text/html": [
       "<div>\n",
       "<style scoped>\n",
       "    .dataframe tbody tr th:only-of-type {\n",
       "        vertical-align: middle;\n",
       "    }\n",
       "\n",
       "    .dataframe tbody tr th {\n",
       "        vertical-align: top;\n",
       "    }\n",
       "\n",
       "    .dataframe thead th {\n",
       "        text-align: right;\n",
       "    }\n",
       "</style>\n",
       "<table border=\"1\" class=\"dataframe\">\n",
       "  <thead>\n",
       "    <tr style=\"text-align: right;\">\n",
       "      <th></th>\n",
       "      <th>Task ID</th>\n",
       "      <th>Task Description</th>\n",
       "      <th>Deadline</th>\n",
       "      <th>Priority</th>\n",
       "      <th>Assigned User</th>\n",
       "      <th>User Workload</th>\n",
       "      <th>Past Task Behavior</th>\n",
       "      <th>Category</th>\n",
       "      <th>Status</th>\n",
       "      <th>Time Taken (hours)</th>\n",
       "      <th>Days Remaining</th>\n",
       "      <th>User Current Load</th>\n",
       "      <th>Past Behavior Score</th>\n",
       "      <th>Task Complexity Score</th>\n",
       "      <th>Category Specialist Match</th>\n",
       "      <th>User Availability Flag</th>\n",
       "    </tr>\n",
       "  </thead>\n",
       "  <tbody>\n",
       "    <tr>\n",
       "      <th>0</th>\n",
       "      <td>TASK0001</td>\n",
       "      <td>Task description 1</td>\n",
       "      <td>2025-06-21</td>\n",
       "      <td>Medium</td>\n",
       "      <td>Eva</td>\n",
       "      <td>7</td>\n",
       "      <td>On-time</td>\n",
       "      <td>Development</td>\n",
       "      <td>Completed</td>\n",
       "      <td>6.99</td>\n",
       "      <td>24</td>\n",
       "      <td>7</td>\n",
       "      <td>0.8</td>\n",
       "      <td>0.9</td>\n",
       "      <td>0</td>\n",
       "      <td>1</td>\n",
       "    </tr>\n",
       "    <tr>\n",
       "      <th>1</th>\n",
       "      <td>TASK0002</td>\n",
       "      <td>Task description 2</td>\n",
       "      <td>2025-06-07</td>\n",
       "      <td>Medium</td>\n",
       "      <td>Charlie</td>\n",
       "      <td>5</td>\n",
       "      <td>On-time</td>\n",
       "      <td>Design</td>\n",
       "      <td>Completed</td>\n",
       "      <td>5.72</td>\n",
       "      <td>10</td>\n",
       "      <td>7</td>\n",
       "      <td>0.8</td>\n",
       "      <td>0.6</td>\n",
       "      <td>1</td>\n",
       "      <td>1</td>\n",
       "    </tr>\n",
       "    <tr>\n",
       "      <th>2</th>\n",
       "      <td>TASK0003</td>\n",
       "      <td>Task description 3</td>\n",
       "      <td>2025-06-13</td>\n",
       "      <td>Medium</td>\n",
       "      <td>Eva</td>\n",
       "      <td>6</td>\n",
       "      <td>Perfect</td>\n",
       "      <td>Design</td>\n",
       "      <td>In Progress</td>\n",
       "      <td>7.30</td>\n",
       "      <td>16</td>\n",
       "      <td>8</td>\n",
       "      <td>1.0</td>\n",
       "      <td>0.6</td>\n",
       "      <td>0</td>\n",
       "      <td>0</td>\n",
       "    </tr>\n",
       "    <tr>\n",
       "      <th>3</th>\n",
       "      <td>TASK0004</td>\n",
       "      <td>Task description 4</td>\n",
       "      <td>2025-06-25</td>\n",
       "      <td>High</td>\n",
       "      <td>Alice</td>\n",
       "      <td>8</td>\n",
       "      <td>Perfect</td>\n",
       "      <td>Design</td>\n",
       "      <td>Completed</td>\n",
       "      <td>9.05</td>\n",
       "      <td>28</td>\n",
       "      <td>11</td>\n",
       "      <td>1.0</td>\n",
       "      <td>0.6</td>\n",
       "      <td>0</td>\n",
       "      <td>0</td>\n",
       "    </tr>\n",
       "    <tr>\n",
       "      <th>4</th>\n",
       "      <td>TASK0005</td>\n",
       "      <td>Task description 5</td>\n",
       "      <td>2025-06-18</td>\n",
       "      <td>High</td>\n",
       "      <td>Alice</td>\n",
       "      <td>5</td>\n",
       "      <td>Perfect</td>\n",
       "      <td>Testing</td>\n",
       "      <td>Pending</td>\n",
       "      <td>5.53</td>\n",
       "      <td>21</td>\n",
       "      <td>5</td>\n",
       "      <td>1.0</td>\n",
       "      <td>0.7</td>\n",
       "      <td>0</td>\n",
       "      <td>1</td>\n",
       "    </tr>\n",
       "  </tbody>\n",
       "</table>\n",
       "</div>"
      ],
      "text/plain": [
       "    Task ID    Task Description    Deadline Priority Assigned User  \\\n",
       "0  TASK0001  Task description 1  2025-06-21   Medium           Eva   \n",
       "1  TASK0002  Task description 2  2025-06-07   Medium       Charlie   \n",
       "2  TASK0003  Task description 3  2025-06-13   Medium           Eva   \n",
       "3  TASK0004  Task description 4  2025-06-25     High         Alice   \n",
       "4  TASK0005  Task description 5  2025-06-18     High         Alice   \n",
       "\n",
       "   User Workload Past Task Behavior     Category       Status  \\\n",
       "0              7            On-time  Development    Completed   \n",
       "1              5            On-time       Design    Completed   \n",
       "2              6            Perfect       Design  In Progress   \n",
       "3              8            Perfect       Design    Completed   \n",
       "4              5            Perfect      Testing      Pending   \n",
       "\n",
       "   Time Taken (hours)  Days Remaining  User Current Load  Past Behavior Score  \\\n",
       "0                6.99              24                  7                  0.8   \n",
       "1                5.72              10                  7                  0.8   \n",
       "2                7.30              16                  8                  1.0   \n",
       "3                9.05              28                 11                  1.0   \n",
       "4                5.53              21                  5                  1.0   \n",
       "\n",
       "   Task Complexity Score  Category Specialist Match  User Availability Flag  \n",
       "0                    0.9                          0                       1  \n",
       "1                    0.6                          1                       1  \n",
       "2                    0.6                          0                       0  \n",
       "3                    0.6                          0                       0  \n",
       "4                    0.7                          0                       1  "
      ]
     },
     "execution_count": 1,
     "metadata": {},
     "output_type": "execute_result"
    }
   ],
   "source": [
    "import pandas as pd\n",
    "df = pd.read_csv(\"task_dataset.csv\")\n",
    "df.head()"
   ]
  },
  {
   "cell_type": "code",
   "execution_count": 13,
   "id": "c75dc1f2-7356-4fcd-882c-19d2ad2fd723",
   "metadata": {},
   "outputs": [
    {
     "name": "stdout",
     "output_type": "stream",
     "text": [
      " Shape of dataset: (300, 16)\n",
      "\n",
      " First few rows:\n",
      "    Task ID    Task Description    Deadline Priority Assigned User  \\\n",
      "0  TASK0001  Task description 1  2025-06-21   Medium           Eva   \n",
      "1  TASK0002  Task description 2  2025-06-07   Medium       Charlie   \n",
      "2  TASK0003  Task description 3  2025-06-13   Medium           Eva   \n",
      "3  TASK0004  Task description 4  2025-06-25     High         Alice   \n",
      "4  TASK0005  Task description 5  2025-06-18     High         Alice   \n",
      "\n",
      "   User Workload Past Task Behavior     Category       Status  \\\n",
      "0              7            On-time  Development    Completed   \n",
      "1              5            On-time       Design    Completed   \n",
      "2              6            Perfect       Design  In Progress   \n",
      "3              8            Perfect       Design    Completed   \n",
      "4              5            Perfect      Testing      Pending   \n",
      "\n",
      "   Time Taken (hours)  Days Remaining  User Current Load  Past Behavior Score  \\\n",
      "0                6.99              24                  7                  0.8   \n",
      "1                5.72              10                  7                  0.8   \n",
      "2                7.30              16                  8                  1.0   \n",
      "3                9.05              28                 11                  1.0   \n",
      "4                5.53              21                  5                  1.0   \n",
      "\n",
      "   Task Complexity Score  Category Specialist Match  User Availability Flag  \n",
      "0                    0.9                          0                       1  \n",
      "1                    0.6                          1                       1  \n",
      "2                    0.6                          0                       0  \n",
      "3                    0.6                          0                       0  \n",
      "4                    0.7                          0                       1  \n",
      "\n",
      " Missing Values:\n",
      "Task ID                      0\n",
      "Task Description             0\n",
      "Deadline                     0\n",
      "Priority                     0\n",
      "Assigned User                0\n",
      "User Workload                0\n",
      "Past Task Behavior           0\n",
      "Category                     0\n",
      "Status                       0\n",
      "Time Taken (hours)           0\n",
      "Days Remaining               0\n",
      "User Current Load            0\n",
      "Past Behavior Score          0\n",
      "Task Complexity Score        0\n",
      "Category Specialist Match    0\n",
      "User Availability Flag       0\n",
      "dtype: int64\n",
      "\n",
      " Duplicate Rows: 0\n",
      "\n",
      " Data Types & Non-Nulls:\n",
      "<class 'pandas.core.frame.DataFrame'>\n",
      "RangeIndex: 300 entries, 0 to 299\n",
      "Data columns (total 16 columns):\n",
      " #   Column                     Non-Null Count  Dtype  \n",
      "---  ------                     --------------  -----  \n",
      " 0   Task ID                    300 non-null    object \n",
      " 1   Task Description           300 non-null    object \n",
      " 2   Deadline                   300 non-null    object \n",
      " 3   Priority                   300 non-null    object \n",
      " 4   Assigned User              300 non-null    object \n",
      " 5   User Workload              300 non-null    int64  \n",
      " 6   Past Task Behavior         300 non-null    object \n",
      " 7   Category                   300 non-null    object \n",
      " 8   Status                     300 non-null    object \n",
      " 9   Time Taken (hours)         300 non-null    float64\n",
      " 10  Days Remaining             300 non-null    int64  \n",
      " 11  User Current Load          300 non-null    int64  \n",
      " 12  Past Behavior Score        300 non-null    float64\n",
      " 13  Task Complexity Score      300 non-null    float64\n",
      " 14  Category Specialist Match  300 non-null    int64  \n",
      " 15  User Availability Flag     300 non-null    int64  \n",
      "dtypes: float64(3), int64(5), object(8)\n",
      "memory usage: 37.6+ KB\n",
      "None\n",
      "\n",
      " Summary Statistics:\n",
      "         Task ID    Task Description    Deadline Priority Assigned User  \\\n",
      "count        300                 300         300      300           300   \n",
      "unique       300                 300          30        3             5   \n",
      "top     TASK0001  Task description 1  2025-06-18   Medium         Alice   \n",
      "freq           1                   1          16      144            68   \n",
      "mean         NaN                 NaN         NaN      NaN           NaN   \n",
      "std          NaN                 NaN         NaN      NaN           NaN   \n",
      "min          NaN                 NaN         NaN      NaN           NaN   \n",
      "25%          NaN                 NaN         NaN      NaN           NaN   \n",
      "50%          NaN                 NaN         NaN      NaN           NaN   \n",
      "75%          NaN                 NaN         NaN      NaN           NaN   \n",
      "max          NaN                 NaN         NaN      NaN           NaN   \n",
      "\n",
      "        User Workload Past Task Behavior Category       Status  \\\n",
      "count      300.000000                300      300          300   \n",
      "unique            NaN                  4        5            3   \n",
      "top               NaN            On-time   Design  In Progress   \n",
      "freq              NaN                128       67          109   \n",
      "mean         5.546667                NaN      NaN          NaN   \n",
      "std          2.903318                NaN      NaN          NaN   \n",
      "min          1.000000                NaN      NaN          NaN   \n",
      "25%          3.000000                NaN      NaN          NaN   \n",
      "50%          6.000000                NaN      NaN          NaN   \n",
      "75%          8.000000                NaN      NaN          NaN   \n",
      "max         10.000000                NaN      NaN          NaN   \n",
      "\n",
      "        Time Taken (hours)  Days Remaining  User Current Load  \\\n",
      "count           300.000000      300.000000          300.00000   \n",
      "unique                 NaN             NaN                NaN   \n",
      "top                    NaN             NaN                NaN   \n",
      "freq                   NaN             NaN                NaN   \n",
      "mean              5.994467       14.730000            7.09000   \n",
      "std               1.951880        8.616141            3.11892   \n",
      "min               1.000000        0.000000            1.00000   \n",
      "25%               4.632500        8.000000            5.00000   \n",
      "50%               6.120000       14.500000            7.00000   \n",
      "75%               7.252500       22.000000           10.00000   \n",
      "max              13.710000       29.000000           13.00000   \n",
      "\n",
      "        Past Behavior Score  Task Complexity Score  Category Specialist Match  \\\n",
      "count            300.000000             300.000000                 300.000000   \n",
      "unique                  NaN                    NaN                        NaN   \n",
      "top                     NaN                    NaN                        NaN   \n",
      "freq                    NaN                    NaN                        NaN   \n",
      "mean               0.756000               0.692000                   0.203333   \n",
      "std                0.218533               0.137108                   0.403151   \n",
      "min                0.300000               0.500000                   0.000000   \n",
      "25%                0.500000               0.600000                   0.000000   \n",
      "50%                0.800000               0.700000                   0.000000   \n",
      "75%                1.000000               0.800000                   0.000000   \n",
      "max                1.000000               0.900000                   1.000000   \n",
      "\n",
      "        User Availability Flag  \n",
      "count               300.000000  \n",
      "unique                     NaN  \n",
      "top                        NaN  \n",
      "freq                       NaN  \n",
      "mean                  0.543333  \n",
      "std                   0.498951  \n",
      "min                   0.000000  \n",
      "25%                   0.000000  \n",
      "50%                   1.000000  \n",
      "75%                   1.000000  \n",
      "max                   1.000000  \n"
     ]
    }
   ],
   "source": [
    "# shape of the dataset\n",
    "print(\" Shape of dataset:\", df.shape)\n",
    "print(\"\\n First few rows:\")\n",
    "print(df.head())\n",
    "\n",
    "# Check for null/missing values\n",
    "print(\"\\n Missing Values:\")\n",
    "print(df.isnull().sum())\n",
    "\n",
    "# Check for duplicate rows\n",
    "print(\"\\n Duplicate Rows:\", df.duplicated().sum())\n",
    "\n",
    "# Optional: check data types and non-null counts\n",
    "print(\"\\n Data Types & Non-Nulls:\")\n",
    "print(df.info())\n",
    "\n",
    "# Optional: get quick summary stats\n",
    "print(\"\\n Summary Statistics:\")\n",
    "print(df.describe(include=\"all\"))"
   ]
  },
  {
   "cell_type": "markdown",
   "id": "b4e0e02e-bb7a-4612-bda3-d9605bd23d0b",
   "metadata": {},
   "source": [
    " Rename and select Relevant columns"
   ]
  },
  {
   "cell_type": "code",
   "execution_count": 17,
   "id": "77f0be86-da0e-4f87-8b50-a28825fb3682",
   "metadata": {},
   "outputs": [
    {
     "name": "stdout",
     "output_type": "stream",
     "text": [
      "               precision    recall  f1-score   support\n",
      "\n",
      "       Design       0.25      1.00      0.40        15\n",
      "  Development       0.00      0.00      0.00         8\n",
      "Documentation       0.00      0.00      0.00         9\n",
      "     Research       0.00      0.00      0.00        15\n",
      "      Testing       0.00      0.00      0.00        13\n",
      "\n",
      "     accuracy                           0.25        60\n",
      "    macro avg       0.05      0.20      0.08        60\n",
      " weighted avg       0.06      0.25      0.10        60\n",
      "\n"
     ]
    },
    {
     "name": "stderr",
     "output_type": "stream",
     "text": [
      "C:\\Users\\user\\anaconda3\\Lib\\site-packages\\sklearn\\metrics\\_classification.py:1531: UndefinedMetricWarning: Precision is ill-defined and being set to 0.0 in labels with no predicted samples. Use `zero_division` parameter to control this behavior.\n",
      "  _warn_prf(average, modifier, f\"{metric.capitalize()} is\", len(result))\n",
      "C:\\Users\\user\\anaconda3\\Lib\\site-packages\\sklearn\\metrics\\_classification.py:1531: UndefinedMetricWarning: Precision is ill-defined and being set to 0.0 in labels with no predicted samples. Use `zero_division` parameter to control this behavior.\n",
      "  _warn_prf(average, modifier, f\"{metric.capitalize()} is\", len(result))\n",
      "C:\\Users\\user\\anaconda3\\Lib\\site-packages\\sklearn\\metrics\\_classification.py:1531: UndefinedMetricWarning: Precision is ill-defined and being set to 0.0 in labels with no predicted samples. Use `zero_division` parameter to control this behavior.\n",
      "  _warn_prf(average, modifier, f\"{metric.capitalize()} is\", len(result))\n"
     ]
    }
   ],
   "source": [
    "# Rename and select relevant columns\n",
    "df_type = df[[\"Task Description\", \"Category\"]].rename(columns={\n",
    "    \"Task Description\": \"task\",\n",
    "    \"Category\": \"type\"\n",
    "})\n",
    "\n",
    "# Drop rows with missing values (if any)\n",
    "df_type.dropna(inplace=True)\n",
    "\n",
    "from sklearn.model_selection import train_test_split\n",
    "from sklearn.feature_extraction.text import TfidfVectorizer\n",
    "from sklearn.linear_model import LogisticRegression\n",
    "from sklearn.metrics import classification_report\n",
    "\n",
    "X = df_type[\"task\"]\n",
    "y = df_type[\"type\"]\n",
    "\n",
    "# Convert text to vectors\n",
    "vectorizer = TfidfVectorizer()\n",
    "X_vect = vectorizer.fit_transform(X)\n",
    "\n",
    "# Train/test split\n",
    "X_train, X_test, y_train, y_test = train_test_split(X_vect, y, test_size=0.2, random_state=42)\n",
    "\n",
    "# Train classifier\n",
    "clf = LogisticRegression(max_iter=1000)\n",
    "clf.fit(X_train, y_train)\n",
    "\n",
    "# Evaluate\n",
    "y_pred = clf.predict(X_test)\n",
    "print(classification_report(y_test, y_pred))"
   ]
  },
  {
   "cell_type": "code",
   "execution_count": 9,
   "id": "679b6c30-a880-495e-bf6c-9d3a01e682bd",
   "metadata": {},
   "outputs": [
    {
     "data": {
      "text/plain": [
       "['task_vectorizer.joblib']"
      ]
     },
     "execution_count": 9,
     "metadata": {},
     "output_type": "execute_result"
    }
   ],
   "source": [
    "import joblib\n",
    "\n",
    "joblib.dump(clf, \"task_type_model.joblib\")\n",
    "joblib.dump(vectorizer, \"task_vectorizer.joblib\")"
   ]
  },
  {
   "cell_type": "code",
   "execution_count": 11,
   "id": "d9178f2e-3534-4a9e-a41b-c90ba1a4ca59",
   "metadata": {},
   "outputs": [],
   "source": [
    "import joblib\n",
    "\n",
    "model = joblib.load(\"task_type_model.joblib\")\n",
    "vectorizer = joblib.load(\"task_vectorizer.joblib\")"
   ]
  },
  {
   "cell_type": "code",
   "execution_count": 1,
   "id": "79bdbaa4-1f22-41d8-bc9c-fc4d5eb32ea6",
   "metadata": {},
   "outputs": [
    {
     "ename": "NameError",
     "evalue": "name 'df' is not defined",
     "output_type": "error",
     "traceback": [
      "\u001b[1;31m---------------------------------------------------------------------------\u001b[0m",
      "\u001b[1;31mNameError\u001b[0m                                 Traceback (most recent call last)",
      "Cell \u001b[1;32mIn[1], line 1\u001b[0m\n\u001b[1;32m----> 1\u001b[0m df\u001b[38;5;241m.\u001b[39mhead()\n",
      "\u001b[1;31mNameError\u001b[0m: name 'df' is not defined"
     ]
    }
   ],
   "source": [
    "df.head()"
   ]
  },
  {
   "cell_type": "code",
   "execution_count": 5,
   "id": "dfd1798d-3f5e-4ecf-8e0a-693c7671dcc8",
   "metadata": {},
   "outputs": [
    {
     "name": "stdout",
     "output_type": "stream",
     "text": [
      "Index(['Task ID', 'Task Description', 'Deadline', 'Priority', 'Assigned User',\n",
      "       'User Workload', 'Past Task Behavior', 'Category', 'Status',\n",
      "       'Time Taken (hours)', 'Days Remaining', 'User Current Load',\n",
      "       'Past Behavior Score', 'Task Complexity Score',\n",
      "       'Category Specialist Match', 'User Availability Flag'],\n",
      "      dtype='object')\n"
     ]
    }
   ],
   "source": [
    "import pandas as pd\n",
    "df = pd.read_csv(\"task_dataset.csv\")\n",
    "print(df.columns)"
   ]
  },
  {
   "cell_type": "code",
   "execution_count": 9,
   "id": "a5841a75-922a-4264-acfc-bd9ea1f83518",
   "metadata": {},
   "outputs": [
    {
     "name": "stdout",
     "output_type": "stream",
     "text": [
      "Priority\n",
      "Medium    144\n",
      "High       94\n",
      "Low        62\n",
      "Name: count, dtype: int64\n"
     ]
    }
   ],
   "source": [
    "print(df[\"Priority\"].value_counts())"
   ]
  },
  {
   "cell_type": "code",
   "execution_count": 11,
   "id": "a6b5f3c4-8594-4b08-9798-bd2425326a0e",
   "metadata": {},
   "outputs": [],
   "source": [
    "df[\"has_urgent_word\"] = df[\"Task Description\"].str.lower().str.contains(\"urgent|immediately|asap\").astype(int)\n",
    "df[\"exclamation_count\"] = df[\"Task Description\"].str.count(\"!\")"
   ]
  },
  {
   "cell_type": "code",
   "execution_count": 13,
   "id": "7e962f89-a093-463b-9d24-3a5ca5ec1dd9",
   "metadata": {},
   "outputs": [
    {
     "ename": "KeyError",
     "evalue": "\"['word_count'] not in index\"",
     "output_type": "error",
     "traceback": [
      "\u001b[1;31m---------------------------------------------------------------------------\u001b[0m",
      "\u001b[1;31mKeyError\u001b[0m                                  Traceback (most recent call last)",
      "Cell \u001b[1;32mIn[13], line 1\u001b[0m\n\u001b[1;32m----> 1\u001b[0m X \u001b[38;5;241m=\u001b[39m df[[\u001b[38;5;124m\"\u001b[39m\u001b[38;5;124mword_count\u001b[39m\u001b[38;5;124m\"\u001b[39m, \u001b[38;5;124m\"\u001b[39m\u001b[38;5;124mhas_urgent_word\u001b[39m\u001b[38;5;124m\"\u001b[39m, \u001b[38;5;124m\"\u001b[39m\u001b[38;5;124mexclamation_count\u001b[39m\u001b[38;5;124m\"\u001b[39m]]\n",
      "File \u001b[1;32m~\\anaconda3\\Lib\\site-packages\\pandas\\core\\frame.py:4108\u001b[0m, in \u001b[0;36mDataFrame.__getitem__\u001b[1;34m(self, key)\u001b[0m\n\u001b[0;32m   4106\u001b[0m     \u001b[38;5;28;01mif\u001b[39;00m is_iterator(key):\n\u001b[0;32m   4107\u001b[0m         key \u001b[38;5;241m=\u001b[39m \u001b[38;5;28mlist\u001b[39m(key)\n\u001b[1;32m-> 4108\u001b[0m     indexer \u001b[38;5;241m=\u001b[39m \u001b[38;5;28mself\u001b[39m\u001b[38;5;241m.\u001b[39mcolumns\u001b[38;5;241m.\u001b[39m_get_indexer_strict(key, \u001b[38;5;124m\"\u001b[39m\u001b[38;5;124mcolumns\u001b[39m\u001b[38;5;124m\"\u001b[39m)[\u001b[38;5;241m1\u001b[39m]\n\u001b[0;32m   4110\u001b[0m \u001b[38;5;66;03m# take() does not accept boolean indexers\u001b[39;00m\n\u001b[0;32m   4111\u001b[0m \u001b[38;5;28;01mif\u001b[39;00m \u001b[38;5;28mgetattr\u001b[39m(indexer, \u001b[38;5;124m\"\u001b[39m\u001b[38;5;124mdtype\u001b[39m\u001b[38;5;124m\"\u001b[39m, \u001b[38;5;28;01mNone\u001b[39;00m) \u001b[38;5;241m==\u001b[39m \u001b[38;5;28mbool\u001b[39m:\n",
      "File \u001b[1;32m~\\anaconda3\\Lib\\site-packages\\pandas\\core\\indexes\\base.py:6200\u001b[0m, in \u001b[0;36mIndex._get_indexer_strict\u001b[1;34m(self, key, axis_name)\u001b[0m\n\u001b[0;32m   6197\u001b[0m \u001b[38;5;28;01melse\u001b[39;00m:\n\u001b[0;32m   6198\u001b[0m     keyarr, indexer, new_indexer \u001b[38;5;241m=\u001b[39m \u001b[38;5;28mself\u001b[39m\u001b[38;5;241m.\u001b[39m_reindex_non_unique(keyarr)\n\u001b[1;32m-> 6200\u001b[0m \u001b[38;5;28mself\u001b[39m\u001b[38;5;241m.\u001b[39m_raise_if_missing(keyarr, indexer, axis_name)\n\u001b[0;32m   6202\u001b[0m keyarr \u001b[38;5;241m=\u001b[39m \u001b[38;5;28mself\u001b[39m\u001b[38;5;241m.\u001b[39mtake(indexer)\n\u001b[0;32m   6203\u001b[0m \u001b[38;5;28;01mif\u001b[39;00m \u001b[38;5;28misinstance\u001b[39m(key, Index):\n\u001b[0;32m   6204\u001b[0m     \u001b[38;5;66;03m# GH 42790 - Preserve name from an Index\u001b[39;00m\n",
      "File \u001b[1;32m~\\anaconda3\\Lib\\site-packages\\pandas\\core\\indexes\\base.py:6252\u001b[0m, in \u001b[0;36mIndex._raise_if_missing\u001b[1;34m(self, key, indexer, axis_name)\u001b[0m\n\u001b[0;32m   6249\u001b[0m     \u001b[38;5;28;01mraise\u001b[39;00m \u001b[38;5;167;01mKeyError\u001b[39;00m(\u001b[38;5;124mf\u001b[39m\u001b[38;5;124m\"\u001b[39m\u001b[38;5;124mNone of [\u001b[39m\u001b[38;5;132;01m{\u001b[39;00mkey\u001b[38;5;132;01m}\u001b[39;00m\u001b[38;5;124m] are in the [\u001b[39m\u001b[38;5;132;01m{\u001b[39;00maxis_name\u001b[38;5;132;01m}\u001b[39;00m\u001b[38;5;124m]\u001b[39m\u001b[38;5;124m\"\u001b[39m)\n\u001b[0;32m   6251\u001b[0m not_found \u001b[38;5;241m=\u001b[39m \u001b[38;5;28mlist\u001b[39m(ensure_index(key)[missing_mask\u001b[38;5;241m.\u001b[39mnonzero()[\u001b[38;5;241m0\u001b[39m]]\u001b[38;5;241m.\u001b[39munique())\n\u001b[1;32m-> 6252\u001b[0m \u001b[38;5;28;01mraise\u001b[39;00m \u001b[38;5;167;01mKeyError\u001b[39;00m(\u001b[38;5;124mf\u001b[39m\u001b[38;5;124m\"\u001b[39m\u001b[38;5;132;01m{\u001b[39;00mnot_found\u001b[38;5;132;01m}\u001b[39;00m\u001b[38;5;124m not in index\u001b[39m\u001b[38;5;124m\"\u001b[39m)\n",
      "\u001b[1;31mKeyError\u001b[0m: \"['word_count'] not in index\""
     ]
    }
   ],
   "source": [
    "X = df[[\"word_count\", \"has_urgent_word\", \"exclamation_count\"]]"
   ]
  },
  {
   "cell_type": "code",
   "execution_count": 19,
   "id": "d4c75abf-48cd-424d-85a8-62c6359ed2f3",
   "metadata": {},
   "outputs": [
    {
     "name": "stdout",
     "output_type": "stream",
     "text": [
      "['Task ID', 'Task Description', 'Deadline', 'Priority', 'Assigned User', 'User Workload', 'Past Task Behavior', 'Category', 'Status', 'Time Taken (hours)', 'Days Remaining', 'User Current Load', 'Past Behavior Score', 'Task Complexity Score', 'Category Specialist Match', 'User Availability Flag']\n"
     ]
    }
   ],
   "source": [
    "import pandas as pd\n",
    "df = pd.read_csv(\"task_dataset.csv\")\n",
    "print(df.columns.tolist())"
   ]
  }
 ],
 "metadata": {
  "kernelspec": {
   "display_name": "Python [conda env:base] *",
   "language": "python",
   "name": "conda-base-py"
  },
  "language_info": {
   "codemirror_mode": {
    "name": "ipython",
    "version": 3
   },
   "file_extension": ".py",
   "mimetype": "text/x-python",
   "name": "python",
   "nbconvert_exporter": "python",
   "pygments_lexer": "ipython3",
   "version": "3.12.7"
  }
 },
 "nbformat": 4,
 "nbformat_minor": 5
}
